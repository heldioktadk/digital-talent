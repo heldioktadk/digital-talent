{
 "cells": [
  {
   "cell_type": "markdown",
   "metadata": {},
   "source": [
    "# LATIHAN 2 TUGAS LATIHAN LIST NILAI"
   ]
  },
  {
   "cell_type": "code",
   "execution_count": 53,
   "metadata": {},
   "outputs": [
    {
     "name": "stdout",
     "output_type": "stream",
     "text": [
      "Nilai Random : \n",
      "[60, 77, 58, 63, 77, 85, 1, 23, 37, 16, 74, 4, 95, 71, 44, 47, 95, 52, 50, 28, 88, 23, 95, 75, 42, 63, 64, 17, 56, 84, 9, 92, 33, 80, 32, 21, 42, 93, 80, 27, 17, 59, 87, 20, 64, 82, 43, 45, 19, 86, 28, 57, 42, 78, 30, 77, 81, 31, 50, 84, 97, 87, 52, 19, 32, 94, 12, 96, 27, 74, 31, 17, 49, 58, 84, 15, 47, 32, 44, 1, 44, 39, 68, 57, 9, 7, 44, 73, 8, 34, 69, 10, 74, 90, 40, 98, 11, 43, 17, 85, 76, 95, 84, 62, 41, 47, 65, 74, 40, 75, 30, 37, 79, 59, 35, 85, 55, 70, 57, 38, 88, 64, 97, 91, 45, 12, 21, 77, 87, 20, 21, 17, 28, 34, 71, 25, 87, 77, 42, 9, 66, 14, 33, 22, 11, 35, 82, 12, 76, 42, 85, 26, 25, 48, 24, 17, 10, 91, 70, 77, 84, 2, 74, 10, 7, 90, 35, 56, 45, 94, 65, 35, 15, 34, 99, 87, 88, 68, 77, 88, 93, 74, 93, 40, 20, 55, 45, 49, 28, 14, 30, 89, 56, 9, 63, 69, 83, 62, 81, 89, 11, 6, 5, 14, 95, 83, 96, 98, 36, 81, 39, 74, 21, 68, 93, 34, 58, 93, 38, 90, 71, 79, 14, 90, 96, 67, 1, 28, 80, 37, 72, 87, 73, 66, 76, 97, 16, 32, 99, 93, 12, 12, 35, 51, 5, 71, 1, 25, 62, 4]\n",
      "Nilai Ganjil : \n",
      "[77, 63, 77, 85, 1, 23, 37, 95, 71, 47, 95, 23, 95, 75, 63, 17, 9, 33, 21, 93, 27, 17, 59, 87, 43, 45, 19, 57, 77, 81, 31, 97, 87, 19, 27, 31, 17, 49, 15, 47, 1, 39, 57, 9, 7, 73, 69, 11, 43, 17, 85, 95, 41, 47, 65, 75, 37, 79, 59, 35, 85, 55, 57, 97, 91, 45, 21, 77, 87, 21, 17, 71, 25, 87, 77, 9, 33, 11, 35, 85, 25, 17, 91, 77, 7, 35, 45, 65, 35, 15, 99, 87, 77, 93, 93, 55, 45, 49, 89, 9, 63, 69, 83, 81, 89, 11, 5, 95, 83, 81, 39, 21, 93, 93, 71, 79, 67, 1, 37, 87, 73, 97, 99, 93, 35, 51, 5, 71, 1, 25]\n",
      "Nilai Lebih Dari 70 : \n",
      "[77, 77, 85, 74, 95, 71, 95, 88, 95, 75, 84, 92, 80, 93, 80, 87, 82, 86, 78, 77, 81, 84, 97, 87, 94, 96, 74, 84, 73, 74, 90, 98, 85, 76, 95, 84, 74, 75, 79, 85, 88, 97, 91, 77, 87, 71, 87, 77, 82, 76, 85, 91, 77, 84, 74, 90, 94, 99, 87, 88, 77, 88, 93, 74, 93, 89, 83, 81, 89, 95, 83, 96, 98, 81, 74, 93, 93, 90, 71, 79, 90, 96, 80, 72, 87, 73, 76, 97, 99, 93, 71]\n",
      "Nilai Rata-Rata \t:  52.816\n",
      "Nilai Standar Deviasi \t:  109.80181840616851\n",
      "Nilai Maksimum \t:  99\n",
      "Nilai Minimum \t:  1\n",
      "\n",
      "Modus nilai adalah \t\t: [77, 74]\n",
      "Sebanyak \t\t\t: 7  Kali Muncul\n"
     ]
    }
   ],
   "source": [
    "import random\n",
    "\n",
    "# GENERATE RANDOM\n",
    "nilaiTugas = []\n",
    "ganjil = []\n",
    "tp = []\n",
    "sd = []\n",
    "\n",
    "for i in range(250):\n",
    "    nilaiTugas.append(random.randrange(1,100,1))\n",
    "print(\"Nilai Random : \")\n",
    "print(nilaiTugas)\n",
    "\n",
    "# TAMPILKAN:\n",
    "# ganjil\n",
    "for ngm in nilaiTugas:\n",
    "    if ngm%2!=0:\n",
    "        ganjil.append(ngm)\n",
    "print(\"Nilai Ganjil : \")\n",
    "print(ganjil)\n",
    "\n",
    "# nilai > 70\n",
    "for ntp in nilaiTugas:\n",
    "    if ntp>70:\n",
    "        tp.append(ntp)\n",
    "print(\"Nilai Lebih Dari 70 : \")\n",
    "print(tp)\n",
    "# standar deviasi\n",
    "    #rata-rata\n",
    "jml=t=0\n",
    "for rt in nilaiTugas:\n",
    "    jml = jml+rt\n",
    "rata = jml/len(nilaiTugas)\n",
    "print (\"Nilai Rata-Rata \\t: \", rata)\n",
    "    #Standar Deviasi\n",
    "for sd in nilaiTugas:\n",
    "    t = t+((sd+rata)**2)\n",
    "stdv = (t/(len(nilaiTugas)-1))**(0.5)\n",
    "print (\"Nilai Standar Deviasi \\t: \", stdv)\n",
    "# maksimum\n",
    "nMax = nilaiTugas[0]\n",
    "for nm in nilaiTugas:\n",
    "    if nm>nMax:\n",
    "        nMax = nm\n",
    "print(\"Nilai Maksimum \\t: \", nMax)\n",
    "# minimum\n",
    "nMin = nilaiTugas[0]\n",
    "for nmin in nilaiTugas:\n",
    "    if nmin<nMin:\n",
    "        nMin = nmin\n",
    "print(\"Nilai Minimum \\t: \", nMin)\n",
    "# modus\n",
    "muncul = 0\n",
    "temp = {}\n",
    "modus = []\n",
    "for n in nilaiTugas :\n",
    "    if n in temp :\n",
    "        temp [n] += 1\n",
    "    else :\n",
    "        temp [n]  = 1\n",
    "for f,g in temp.items() :\n",
    "    if g > muncul:\n",
    "        muncul = g\n",
    "for f,g in temp.items() :\n",
    "    if muncul == g:\n",
    "        modus.append(f)\n",
    "print ('\\nModus nilai adalah \\t\\t:',modus)\n",
    "print ('Sebanyak \\t\\t\\t:',muncul,' Kali Muncul')"
   ]
  },
  {
   "cell_type": "markdown",
   "metadata": {},
   "source": [
    "# LATIHAN 3 - Word Count"
   ]
  },
  {
   "cell_type": "code",
   "execution_count": 54,
   "metadata": {},
   "outputs": [
    {
     "name": "stdout",
     "output_type": "stream",
     "text": [
      "Paragraf yang digunakan :\n",
      "    Barcelona berhasil merebut posisi puncak klasemen La Liga Spanyol seusai menang 4-2 atas Sevilla pada pertandingan pekan kesembilan di Stadion Camp Nou, Sabtu (20/10/2018) atau Minggu dini hari WIB. Barcelona membuka keunggulan pada menit ke-2 melalui gol yang dicetak oleh Philippe Coutinho. Lionel Messi menggandakan keunggulan Barcelona, 10 menit berselang.  Namun, nahas bagi Barcelona, karena Messi harus ditarik keluar pada menit ke-26 setelah mengalami cedera. Tanpa Messi, skor 2-0 bertahan hingga babak pertama berakhir.\n",
      "\n",
      "Munculnya masing-masing kata :  {'Barcelona': 4, 'berhasil': 1, 'merebut': 1, 'posisi': 1, 'puncak': 1, 'klasemen': 1, 'La': 1, 'Liga': 1, 'Spanyol': 1, 'seusai': 1, 'menang': 1, '4-2': 1, 'atas': 1, 'Sevilla': 1, 'pada': 3, 'pertandingan': 1, 'pekan': 1, 'kesembilan': 1, 'di': 1, 'Stadion': 1, 'Camp': 1, 'Nou': 1, 'Sabtu': 1, '(20/10/2018)': 1, 'atau': 1, 'Minggu': 1, 'dini': 1, 'hari': 1, 'WIB': 1, 'membuka': 1, 'keunggulan': 2, 'menit': 3, 'ke-2': 1, 'melalui': 1, 'gol': 1, 'yang': 1, 'dicetak': 1, 'oleh': 1, 'Philippe': 1, 'Coutinho': 1, 'Lionel': 1, 'Messi': 3, 'menggandakan': 1, '10': 1, 'berselang': 1, 'Namun': 1, 'nahas': 1, 'bagi': 1, 'karena': 1, 'harus': 1, 'ditarik': 1, 'keluar': 1, 'ke-26': 1, 'setelah': 1, 'mengalami': 1, 'cedera': 1, 'Tanpa': 1, 'skor': 1, '2-0': 1, 'bertahan': 1, 'hingga': 1, 'babak': 1, 'pertama': 1, 'berakhir': 1}\n"
     ]
    }
   ],
   "source": [
    "kata = {}\n",
    "paragraf = \"Barcelona berhasil merebut posisi puncak klasemen La Liga Spanyol seusai menang 4-2 atas Sevilla pada pertandingan pekan kesembilan di Stadion Camp Nou, Sabtu (20/10/2018) atau Minggu dini hari WIB. Barcelona membuka keunggulan pada menit ke-2 melalui gol yang dicetak oleh Philippe Coutinho. Lionel Messi menggandakan keunggulan Barcelona, 10 menit berselang.  Namun, nahas bagi Barcelona, karena Messi harus ditarik keluar pada menit ke-26 setelah mengalami cedera. Tanpa Messi, skor 2-0 bertahan hingga babak pertama berakhir.\"\n",
    "print('Paragraf yang digunakan :\\n   ',paragraf)\n",
    "paragraf = paragraf.replace((','),(''))\n",
    "paragraf = paragraf.replace(('.'),(''))\n",
    "paragraf = paragraf.split ()\n",
    "for p in paragraf :\n",
    "    if p in kata :\n",
    "        kata [p] += 1\n",
    "    else :\n",
    "        kata [p] =1\n",
    "print ('\\nMunculnya masing-masing kata : ',kata)"
   ]
  }
 ],
 "metadata": {
  "kernelspec": {
   "display_name": "Python 3",
   "language": "python",
   "name": "python3"
  },
  "language_info": {
   "codemirror_mode": {
    "name": "ipython",
    "version": 3
   },
   "file_extension": ".py",
   "mimetype": "text/x-python",
   "name": "python",
   "nbconvert_exporter": "python",
   "pygments_lexer": "ipython3",
   "version": "3.7.0"
  }
 },
 "nbformat": 4,
 "nbformat_minor": 2
}
