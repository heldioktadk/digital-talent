{
 "cells": [
  {
   "cell_type": "code",
   "execution_count": 6,
   "metadata": {
    "scrolled": true
   },
   "outputs": [
    {
     "name": "stdout",
     "output_type": "stream",
     "text": [
      "Berapa Berat Badan Anda? : 90\n",
      "Berapa Tinggi Badan Anda? : 175\n",
      "Tinggi badan dalam Meter : 1.75\n",
      "Total BMI :  29.387755102040817\n",
      "Kategori BMI Anda :  Overweight\n",
      "Program Selesai\n"
     ]
    }
   ],
   "source": [
    "bb = int(input (\"Berapa Berat Badan Anda? : \"))\n",
    "tb = int(input (\"Berapa Tinggi Badan Anda? : \"))\n",
    "tbm = tb / 100\n",
    "print (\"Tinggi badan dalam Meter :\", tbm)\n",
    "bmi = bb / (tbm*tbm)\n",
    "print (\"Total BMI : \", bmi)\n",
    "if bmi<15:\n",
    "    print(\"Kategori BMI Anda : \", \"Very severely underweight\")\n",
    "elif bmi<16:\n",
    "    print(\"Kategori BMI Anda : \", \"Severely underweight\")\n",
    "elif bmi<18.5:\n",
    "    print(\"Kategori BMI Anda : \", \"Underweight\")\n",
    "elif bmi<25:\n",
    "    print(\"Kategori BMI Anda : \", \"Normal (healthy weight)\")\n",
    "elif bmi<30:\n",
    "    print(\"Kategori BMI Anda : \", \"Overweight\")\n",
    "elif bmi<35:\n",
    "    print(\"Kategori BMI Anda : \", \"Moderately obese\")\n",
    "elif bmi<40:\n",
    "    print(\"Kategori BMI Anda : \", \"Severely obese\")\n",
    "else:\n",
    "    print(\"Kategori BMI Anda : \", \"Very severely obese\")\n",
    "\n",
    "print(\"Program Selesai\")"
   ]
  },
  {
   "cell_type": "code",
   "execution_count": null,
   "metadata": {},
   "outputs": [],
   "source": []
  }
 ],
 "metadata": {
  "kernelspec": {
   "display_name": "Python 3",
   "language": "python",
   "name": "python3"
  },
  "language_info": {
   "codemirror_mode": {
    "name": "ipython",
    "version": 3
   },
   "file_extension": ".py",
   "mimetype": "text/x-python",
   "name": "python",
   "nbconvert_exporter": "python",
   "pygments_lexer": "ipython3",
   "version": "3.7.0"
  }
 },
 "nbformat": 4,
 "nbformat_minor": 2
}
